{
 "cells": [
  {
   "cell_type": "code",
   "execution_count": 1,
   "metadata": {},
   "outputs": [],
   "source": [
    "import threading\n",
    "import bs4\n",
    "import requests\n",
    "import re\n",
    "import xlsxwriter\n",
    "\n",
    "def Inter_link(links, files, distinct_links, URL):\n",
    "    \n",
    "    links_copy = set()\n",
    "    \n",
    "    for x in links:\n",
    "        links_copy.add(x)\n",
    "    \n",
    "    for inter_page in distinct_links:\n",
    "        html_page = requests.get(inter_page)\n",
    "        soup = bs4.BeautifulSoup(html_page.text,'lxml')\n",
    "        \n",
    "        for link in soup.findAll('a', attrs={'href': re.compile(\"^\"+URL)}):\n",
    "            if (re.findall('.PDF$',link['href'])) or (re.findall('.pdf$',link['href'])):\n",
    "                files.add(link.get('href'))\n",
    "            else:\n",
    "                links.add(link.get('href'))\n",
    "\n",
    "        for link in soup.findAll('a', attrs={'href': re.compile(\"^/+\"), 'href': re.compile(\"\")}):\n",
    "            if (re.findall('.PDF$',link['href'])) or (re.findall('.pdf$',link['href'])):\n",
    "                files.add(URL + link.get('href'))\n",
    "            else:\n",
    "                links.add(URL + link.get('href'))\n",
    "    \n",
    "    distinct_links.clear()\n",
    "    distinct_links = links - links_copy\n",
    "    links_copy.clear()\n",
    "\n",
    "    if (len(distinct_links) == 0):\n",
    "        print('return')\n",
    "        return links, files\n",
    "    else:\n",
    "        return Inter_link(links, files, distinct_links, URL) "
   ]
  },
  {
   "cell_type": "code",
   "execution_count": 2,
   "metadata": {},
   "outputs": [],
   "source": [
    "def my_function(URL):\n",
    "    html_page = requests.get(URL)\n",
    "    soup = bs4.BeautifulSoup(html_page.text,'lxml')\n",
    "    links = set()\n",
    "    files = set()\n",
    "    distinct_links = set()\n",
    "\n",
    "    for link in soup.findAll('a', attrs={'href': re.compile(\"^\"+URL)}):\n",
    "        if (re.findall('.PDF$',link['href'])) or (re.findall('.pdf$',link['href'])):\n",
    "            files.add(link.get('href'))\n",
    "        else:\n",
    "            links.add(link.get('href'))\n",
    "\n",
    "    for link in soup.findAll('a', attrs={'href': re.compile(\"^/+\"), 'href': re.compile(\"\")}):\n",
    "        if (re.findall('.PDF$',link['href'])) or (re.findall('.pdf$',link['href'])):\n",
    "            files.add(URL + link.get('href'))\n",
    "        else:\n",
    "            links.add(URL + link.get('href'))\n",
    "\n",
    "    for y in links:\n",
    "        distinct_links.add(y)\n",
    "    \n",
    "    Inter_link(links, files, distinct_links, URL)\n",
    "    \n",
    "    return print_Data(links, files)"
   ]
  },
  {
   "cell_type": "code",
   "execution_count": 3,
   "metadata": {},
   "outputs": [],
   "source": [
    "def print_Data(links, files):\n",
    "    count = 0\n",
    "    count1 = 0\n",
    "    print('Links: ')\n",
    "    for x in links:\n",
    "        count = count + 1\n",
    "        print(x)\n",
    "    print('Files: ')\n",
    "    for y in files:\n",
    "        count1 = count1 + 1\n",
    "        print(y)\n",
    "    print('Total no. of links: ', count)\n",
    "    print('Total no. of file links: ', count1)\n",
    "    Excel_doc(links, files)"
   ]
  },
  {
   "cell_type": "code",
   "execution_count": 4,
   "metadata": {},
   "outputs": [],
   "source": [
    "def Excel_doc(links, files):\n",
    "    workbook = xlwt.Workbook('sample_data.xlsx')\n",
    "    worksheet = workbook.add_sheet(\"Firebase Data\")\n",
    "    row = 0\n",
    "    for x in links:\n",
    "        worksheet.write(row,0 , x)\n",
    "        row +=1\n",
    "    row = 0\n",
    "    for y in files:\n",
    "        worksheet.write(row, 1, y )\n",
    "    workbook.close()\n",
    "        "
   ]
  },
  {
   "cell_type": "code",
   "execution_count": 5,
   "metadata": {},
   "outputs": [
    {
     "name": "stdout",
     "output_type": "stream",
     "text": [
      "return\n",
      "Links: \n",
      "https://resume-13d69.firebaseapp.com/#\n",
      "https://resume-13d69.firebaseapp.com/mailto:#\n",
      "https://resume-13d69.firebaseapp.com/tel:+919428142374\n",
      "Files: \n",
      "https://resume-13d69.firebaseapp.com/files/Resume.pdf\n",
      "Total no. of links:  3\n",
      "Total no. of file links:  1\n"
     ]
    },
    {
     "name": "stderr",
     "output_type": "stream",
     "text": [
      "Exception in thread Thread-6:\n",
      "Traceback (most recent call last):\n",
      "  File \"C:\\ProgramData\\Anaconda3\\lib\\threading.py\", line 916, in _bootstrap_inner\n",
      "    self.run()\n",
      "  File \"C:\\ProgramData\\Anaconda3\\lib\\threading.py\", line 864, in run\n",
      "    self._target(*self._args, **self._kwargs)\n",
      "  File \"<ipython-input-2-a7ee4ea48cff>\", line 25, in my_function\n",
      "    return print_Data(links, files)\n",
      "  File \"<ipython-input-3-5ab05d82e4e8>\", line 14, in print_Data\n",
      "    Excel_doc(links, files)\n",
      "  File \"<ipython-input-4-3c07670192f4>\", line 2, in Excel_doc\n",
      "    workbook = xlwt.Workbook('sample_data.xlsx')\n",
      "NameError: name 'xlwt' is not defined\n",
      "\n"
     ]
    },
    {
     "name": "stdout",
     "output_type": "stream",
     "text": [
      "return\n",
      "Links: \n",
      "https://demohost-ac2b6.firebaseapp.com/https://firebase.google.com/docs/hosting/\n",
      "https://demohost-ac2b6.firebaseapp.com/addStu.html\n",
      "https://demohost-ac2b6.firebaseapp.com/deptPgCSE.html\n",
      "https://demohost-ac2b6.firebaseapp.com/deptinfo.html\n",
      "https://demohost-ac2b6.firebaseapp.com/deptPgIT.html\n",
      "https://demohost-ac2b6.firebaseapp.com/index.html\n",
      "https://demohost-ac2b6.firebaseapp.com/https://firebase.google.com\n",
      "https://demohost-ac2b6.firebaseapp.com/deptPgCE.html\n",
      "https://demohost-ac2b6.firebaseapp.com/#\n",
      "Files: \n",
      "Total no. of links:  9\n",
      "Total no. of file links:  0\n"
     ]
    },
    {
     "name": "stderr",
     "output_type": "stream",
     "text": [
      "Exception in thread Thread-7:\n",
      "Traceback (most recent call last):\n",
      "  File \"C:\\ProgramData\\Anaconda3\\lib\\threading.py\", line 916, in _bootstrap_inner\n",
      "    self.run()\n",
      "  File \"C:\\ProgramData\\Anaconda3\\lib\\threading.py\", line 864, in run\n",
      "    self._target(*self._args, **self._kwargs)\n",
      "  File \"<ipython-input-2-a7ee4ea48cff>\", line 25, in my_function\n",
      "    return print_Data(links, files)\n",
      "  File \"<ipython-input-3-5ab05d82e4e8>\", line 14, in print_Data\n",
      "    Excel_doc(links, files)\n",
      "  File \"<ipython-input-4-3c07670192f4>\", line 2, in Excel_doc\n",
      "    workbook = xlwt.Workbook('sample_data.xlsx')\n",
      "NameError: name 'xlwt' is not defined\n",
      "\n"
     ]
    }
   ],
   "source": [
    "if __name__ == \"__main__\":\n",
    "    URL1 = \"https://resume-13d69.firebaseapp.com/\"\n",
    "    URL2 = \"https://demohost-ac2b6.firebaseapp.com/\"\n",
    "    links = set()\n",
    "    files = set()\n",
    "    t1 = threading.Thread(target = my_function, args=(URL1,))\n",
    "    t2 = threading.Thread(target = my_function, args=(URL2,))\n",
    "    t1.start()\n",
    "    t2.start()"
   ]
  },
  {
   "cell_type": "code",
   "execution_count": null,
   "metadata": {},
   "outputs": [],
   "source": [
    "for x in links:\n",
    "    print(links)\n",
    "\n",
    "for y in files:\n",
    "    print(files)"
   ]
  },
  {
   "cell_type": "code",
   "execution_count": null,
   "metadata": {},
   "outputs": [],
   "source": []
  }
 ],
 "metadata": {
  "kernelspec": {
   "display_name": "Python 3",
   "language": "python",
   "name": "python3"
  },
  "language_info": {
   "codemirror_mode": {
    "name": "ipython",
    "version": 3
   },
   "file_extension": ".py",
   "mimetype": "text/x-python",
   "name": "python",
   "nbconvert_exporter": "python",
   "pygments_lexer": "ipython3",
   "version": "3.6.5"
  }
 },
 "nbformat": 4,
 "nbformat_minor": 2
}
